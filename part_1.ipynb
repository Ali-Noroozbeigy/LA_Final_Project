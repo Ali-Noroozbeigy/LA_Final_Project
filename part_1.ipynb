{
 "cells": [
  {
   "cell_type": "code",
   "execution_count": 1,
   "id": "c96f574e",
   "metadata": {},
   "outputs": [],
   "source": [
    "import numpy as np"
   ]
  },
  {
   "cell_type": "code",
   "execution_count": 2,
   "id": "087344be",
   "metadata": {},
   "outputs": [],
   "source": [
    "def construct (pattern):\n",
    "    n = pattern.shape[0]\n",
    "    \n",
    "    aug_mat = np.zeros((n**2, (n**2) + 1))\n",
    "    \n",
    "    for row in range(n):\n",
    "        for column in range(n):\n",
    "            \n",
    "            num = (row * n) + column\n",
    "            \n",
    "            aug_mat[num, num] = 1\n",
    "            \n",
    "            if row != 0: # affects the square above\n",
    "                aug_mat[num - n, num] = 1\n",
    "            \n",
    "            if row != n-1: # affects the square below\n",
    "                aug_mat[num + n, num] = 1\n",
    "            \n",
    "            if column != 0: # affects the square left\n",
    "                aug_mat[num - 1, num] = 1\n",
    "            \n",
    "            if column != n-1: # affects the square right\n",
    "                aug_mat[num + 1, num] = 1\n",
    "\n",
    "                \n",
    "    \n",
    "    for i in range(n):\n",
    "        for j in range(n):\n",
    "            aug_mat[(i*n) + j, n**2] = pattern[i,j]\n",
    "    \n",
    "    \n",
    "    return aug_mat"
   ]
  },
  {
   "cell_type": "code",
   "execution_count": 3,
   "id": "87217fae",
   "metadata": {},
   "outputs": [],
   "source": [
    "def calculate(aug_mat):\n",
    "    row = 0\n",
    "    column = 0\n",
    "    rows = aug_mat.shape[0]\n",
    "    columns = aug_mat.shape[1]\n",
    "    \n",
    "    while row < rows and column < columns:\n",
    "        \n",
    "        if not np.all(aug_mat[row:, column] == 0):\n",
    "            first_non_zero_location = np.nonzero(aug_mat[row:, column])[0][0] + row\n",
    "        \n",
    "            if first_non_zero_location != row:\n",
    "                aug_mat[[row, first_non_zero_location]] = aug_mat[[first_non_zero_location, row]]\n",
    "        \n",
    "            for i in range(row + 1, rows):\n",
    "            \n",
    "                if aug_mat[i, column] != 0:\n",
    "                    aug_mat[i] = np.bitwise_xor(aug_mat[row].astype(int), aug_mat[i].astype(int))\n",
    "        \n",
    "            row +=1\n",
    "            column +=1\n",
    "    \n",
    "        else:\n",
    "            column += 1\n",
    "    \n",
    "    \n",
    "    for row in range(rows-1, -1, -1):\n",
    "        if np.all(aug_mat[row, :] == 0):\n",
    "            continue\n",
    "            \n",
    "        first_non_zero_location = np.nonzero(aug_mat[row, :])[0][0]\n",
    "        \n",
    "        if first_non_zero_location == columns -1:\n",
    "            print(\"This pattern doesn't have any solution\")\n",
    "            return None\n",
    "    \n",
    "    \n",
    "        for i in range (row-1, -1, -1):\n",
    "            \n",
    "            if aug_mat[i, first_non_zero_location]==0:\n",
    "                continue\n",
    "        \n",
    "            aug_mat[i] = np.bitwise_xor(aug_mat[row].astype(int), aug_mat[i].astype(int))\n",
    "    \n",
    "    return aug_mat[:,-1]      "
   ]
  },
  {
   "cell_type": "code",
   "execution_count": 4,
   "id": "c1ae98f3",
   "metadata": {},
   "outputs": [
    {
     "data": {
      "text/plain": [
       "array([[1., 1., 0., 0., 0., 1., 0., 0., 0., 0., 0., 0., 0., 0., 0., 0.,\n",
       "        0., 0., 0., 0., 0., 0., 0., 0., 0., 0.],\n",
       "       [1., 1., 1., 0., 0., 0., 1., 0., 0., 0., 0., 0., 0., 0., 0., 0.,\n",
       "        0., 0., 0., 0., 0., 0., 0., 0., 0., 0.],\n",
       "       [0., 1., 1., 1., 0., 0., 0., 1., 0., 0., 0., 0., 0., 0., 0., 0.,\n",
       "        0., 0., 0., 0., 0., 0., 0., 0., 0., 1.],\n",
       "       [0., 0., 1., 1., 1., 0., 0., 0., 1., 0., 0., 0., 0., 0., 0., 0.,\n",
       "        0., 0., 0., 0., 0., 0., 0., 0., 0., 0.],\n",
       "       [0., 0., 0., 1., 1., 0., 0., 0., 0., 1., 0., 0., 0., 0., 0., 0.,\n",
       "        0., 0., 0., 0., 0., 0., 0., 0., 0., 0.],\n",
       "       [1., 0., 0., 0., 0., 1., 1., 0., 0., 0., 1., 0., 0., 0., 0., 0.,\n",
       "        0., 0., 0., 0., 0., 0., 0., 0., 0., 0.],\n",
       "       [0., 1., 0., 0., 0., 1., 1., 1., 0., 0., 0., 1., 0., 0., 0., 0.,\n",
       "        0., 0., 0., 0., 0., 0., 0., 0., 0., 1.],\n",
       "       [0., 0., 1., 0., 0., 0., 1., 1., 1., 0., 0., 0., 1., 0., 0., 0.,\n",
       "        0., 0., 0., 0., 0., 0., 0., 0., 0., 1.],\n",
       "       [0., 0., 0., 1., 0., 0., 0., 1., 1., 1., 0., 0., 0., 1., 0., 0.,\n",
       "        0., 0., 0., 0., 0., 0., 0., 0., 0., 1.],\n",
       "       [0., 0., 0., 0., 1., 0., 0., 0., 1., 1., 0., 0., 0., 0., 1., 0.,\n",
       "        0., 0., 0., 0., 0., 0., 0., 0., 0., 0.],\n",
       "       [0., 0., 0., 0., 0., 1., 0., 0., 0., 0., 1., 1., 0., 0., 0., 1.,\n",
       "        0., 0., 0., 0., 0., 0., 0., 0., 0., 0.],\n",
       "       [0., 0., 0., 0., 0., 0., 1., 0., 0., 0., 1., 1., 1., 0., 0., 0.,\n",
       "        1., 0., 0., 0., 0., 0., 0., 0., 0., 0.],\n",
       "       [0., 0., 0., 0., 0., 0., 0., 1., 0., 0., 0., 1., 1., 1., 0., 0.,\n",
       "        0., 1., 0., 0., 0., 0., 0., 0., 0., 1.],\n",
       "       [0., 0., 0., 0., 0., 0., 0., 0., 1., 0., 0., 0., 1., 1., 1., 0.,\n",
       "        0., 0., 1., 0., 0., 0., 0., 0., 0., 0.],\n",
       "       [0., 0., 0., 0., 0., 0., 0., 0., 0., 1., 0., 0., 0., 1., 1., 0.,\n",
       "        0., 0., 0., 1., 0., 0., 0., 0., 0., 0.],\n",
       "       [0., 0., 0., 0., 0., 0., 0., 0., 0., 0., 1., 0., 0., 0., 0., 1.,\n",
       "        1., 0., 0., 0., 1., 0., 0., 0., 0., 0.],\n",
       "       [0., 0., 0., 0., 0., 0., 0., 0., 0., 0., 0., 1., 0., 0., 0., 1.,\n",
       "        1., 1., 0., 0., 0., 1., 0., 0., 0., 0.],\n",
       "       [0., 0., 0., 0., 0., 0., 0., 0., 0., 0., 0., 0., 1., 0., 0., 0.,\n",
       "        1., 1., 1., 0., 0., 0., 1., 0., 0., 0.],\n",
       "       [0., 0., 0., 0., 0., 0., 0., 0., 0., 0., 0., 0., 0., 1., 0., 0.,\n",
       "        0., 1., 1., 1., 0., 0., 0., 1., 0., 0.],\n",
       "       [0., 0., 0., 0., 0., 0., 0., 0., 0., 0., 0., 0., 0., 0., 1., 0.,\n",
       "        0., 0., 1., 1., 0., 0., 0., 0., 1., 0.],\n",
       "       [0., 0., 0., 0., 0., 0., 0., 0., 0., 0., 0., 0., 0., 0., 0., 1.,\n",
       "        0., 0., 0., 0., 1., 1., 0., 0., 0., 0.],\n",
       "       [0., 0., 0., 0., 0., 0., 0., 0., 0., 0., 0., 0., 0., 0., 0., 0.,\n",
       "        1., 0., 0., 0., 1., 1., 1., 0., 0., 0.],\n",
       "       [0., 0., 0., 0., 0., 0., 0., 0., 0., 0., 0., 0., 0., 0., 0., 0.,\n",
       "        0., 1., 0., 0., 0., 1., 1., 1., 0., 0.],\n",
       "       [0., 0., 0., 0., 0., 0., 0., 0., 0., 0., 0., 0., 0., 0., 0., 0.,\n",
       "        0., 0., 1., 0., 0., 0., 1., 1., 1., 0.],\n",
       "       [0., 0., 0., 0., 0., 0., 0., 0., 0., 0., 0., 0., 0., 0., 0., 0.,\n",
       "        0., 0., 0., 1., 0., 0., 0., 1., 1., 0.]])"
      ]
     },
     "execution_count": 4,
     "metadata": {},
     "output_type": "execute_result"
    }
   ],
   "source": [
    "cells =     [[0, 0, 1, 0, 0],\n",
    "             [0, 1, 1, 1, 0],\n",
    "             [0, 0, 1, 0, 0],\n",
    "             [0, 0, 0, 0, 0],\n",
    "             [0, 0, 0, 0, 0],]\n",
    "\n",
    "arr_cell = np.array(cells)\n",
    "aug_mat = construct(arr_cell)\n",
    "\n",
    "aug_mat"
   ]
  },
  {
   "cell_type": "code",
   "execution_count": 5,
   "id": "e1f375b9",
   "metadata": {},
   "outputs": [
    {
     "data": {
      "text/plain": [
       "array([0., 0., 0., 0., 0., 0., 0., 1., 0., 0., 0., 0., 0., 0., 0., 0., 0.,\n",
       "       0., 0., 0., 0., 0., 0., 0., 0.])"
      ]
     },
     "execution_count": 5,
     "metadata": {},
     "output_type": "execute_result"
    }
   ],
   "source": [
    "result = calculate(aug_mat)\n",
    "\n",
    "result"
   ]
  },
  {
   "cell_type": "code",
   "execution_count": 6,
   "id": "c7966833",
   "metadata": {},
   "outputs": [
    {
     "name": "stdout",
     "output_type": "stream",
     "text": [
      "[8]\n"
     ]
    }
   ],
   "source": [
    "moves = []\n",
    "\n",
    "for i in range(result.shape[0]):\n",
    "    if result[i]==1:\n",
    "        moves.append(i+1)\n",
    "\n",
    "print(moves)        "
   ]
  }
 ],
 "metadata": {
  "kernelspec": {
   "display_name": "Python 3 (ipykernel)",
   "language": "python",
   "name": "python3"
  },
  "language_info": {
   "codemirror_mode": {
    "name": "ipython",
    "version": 3
   },
   "file_extension": ".py",
   "mimetype": "text/x-python",
   "name": "python",
   "nbconvert_exporter": "python",
   "pygments_lexer": "ipython3",
   "version": "3.9.7"
  }
 },
 "nbformat": 4,
 "nbformat_minor": 5
}
